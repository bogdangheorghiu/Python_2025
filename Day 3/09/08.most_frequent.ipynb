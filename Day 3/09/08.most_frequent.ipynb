{
 "cells": [
  {
   "cell_type": "code",
   "execution_count": 7,
   "metadata": {},
   "outputs": [
    {
     "name": "stdout",
     "output_type": "stream",
     "text": [
      "{202: 2, 404: 1}\n"
     ]
    }
   ],
   "source": [
    "\n",
    "\n",
    "\n",
    "import pprint\n",
    "\n",
    "numbers = [101, 202, 303, 202, 404]\n",
    "frequencies = { }\n",
    "\n",
    "for no in numbers:\n",
    "    if no % 2  == 0 :\n",
    "        frequencies[no] = frequencies.get(no, 0) + 1\n",
    "\n",
    "print(frequencies)"
   ]
  },
  {
   "cell_type": "code",
   "execution_count": 5,
   "metadata": {},
   "outputs": [
    {
     "ename": "TypeError",
     "evalue": "'builtin_function_or_method' object is not subscriptable",
     "output_type": "error",
     "traceback": [
      "\u001b[1;31m---------------------------------------------------------------------------\u001b[0m",
      "\u001b[1;31mTypeError\u001b[0m                                 Traceback (most recent call last)",
      "Cell \u001b[1;32mIn[5], line 5\u001b[0m\n\u001b[0;32m      2\u001b[0m frequencies  \u001b[38;5;241m=\u001b[39m { }\n\u001b[0;32m      4\u001b[0m \u001b[38;5;28;01mfor\u001b[39;00m no \u001b[38;5;129;01min\u001b[39;00m numbers:\n\u001b[1;32m----> 5\u001b[0m     frequencies[no] \u001b[38;5;241m=\u001b[39m \u001b[43mnumbers\u001b[49m\u001b[38;5;241;43m.\u001b[39;49m\u001b[43mcount\u001b[49m\u001b[43m[\u001b[49m\u001b[43mno\u001b[49m\u001b[43m]\u001b[49m\n\u001b[0;32m      7\u001b[0m \u001b[38;5;28mprint\u001b[39m(frequencies)\n",
      "\u001b[1;31mTypeError\u001b[0m: 'builtin_function_or_method' object is not subscriptable"
     ]
    }
   ],
   "source": [
    "numbers = [101, 202, 303, 202]\n",
    "frequencies  = { }\n",
    "\n",
    "for no in numbers:\n",
    "    frequencies[no] = numbers.count[no]\n",
    "\n",
    "print(frequencies)"
   ]
  },
  {
   "cell_type": "code",
   "execution_count": 8,
   "metadata": {},
   "outputs": [
    {
     "ename": "NameError",
     "evalue": "name 'max_freq' is not defined",
     "output_type": "error",
     "traceback": [
      "\u001b[1;31m---------------------------------------------------------------------------\u001b[0m",
      "\u001b[1;31mNameError\u001b[0m                                 Traceback (most recent call last)",
      "Cell \u001b[1;32mIn[8], line 3\u001b[0m\n\u001b[0;32m      1\u001b[0m max_frequencies \u001b[38;5;241m=\u001b[39m {}\n\u001b[0;32m      2\u001b[0m \u001b[38;5;28;01mfor\u001b[39;00m f \u001b[38;5;129;01min\u001b[39;00m frequencies:\n\u001b[1;32m----> 3\u001b[0m     \u001b[38;5;28;01mif\u001b[39;00m frequencies[f] \u001b[38;5;241m==\u001b[39m \u001b[43mmax_freq\u001b[49m:\n\u001b[0;32m      4\u001b[0m         max_frequencies\u001b[38;5;241m.\u001b[39mappend(f)\n\u001b[0;32m      6\u001b[0m \u001b[38;5;28mprint\u001b[39m(max_frequencies)\n",
      "\u001b[1;31mNameError\u001b[0m: name 'max_freq' is not defined"
     ]
    }
   ],
   "source": [
    "max_frequencies = {}\n",
    "for f in frequencies:\n",
    "    if frequencies[f] == max_freq:\n",
    "        max_frequencies.append(f)\n",
    "\n",
    "print(max_frequencies)"
   ]
  }
 ],
 "metadata": {
  "kernelspec": {
   "display_name": "Python 3",
   "language": "python",
   "name": "python3"
  },
  "language_info": {
   "codemirror_mode": {
    "name": "ipython",
    "version": 3
   },
   "file_extension": ".py",
   "mimetype": "text/x-python",
   "name": "python",
   "nbconvert_exporter": "python",
   "pygments_lexer": "ipython3",
   "version": "3.13.1"
  }
 },
 "nbformat": 4,
 "nbformat_minor": 2
}
