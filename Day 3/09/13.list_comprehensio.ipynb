{
 "cells": [
  {
   "cell_type": "code",
   "execution_count": 1,
   "metadata": {},
   "outputs": [
    {
     "name": "stdout",
     "output_type": "stream",
     "text": [
      "[3, 4, 6, 11, 4, 6]\n"
     ]
    }
   ],
   "source": [
    "\n",
    "numbres = [2, 3, 5, 10, 3, 5]\n",
    "\n",
    "new_lis = []\n",
    "for i in numbres:\n",
    "    new_lis.append(i+1)\n",
    "\n",
    "print(new_lis)"
   ]
  },
  {
   "cell_type": "code",
   "execution_count": null,
   "metadata": {},
   "outputs": [],
   "source": [
    "\n",
    "numbres = [2, 3, 5, 10, 3, 5]\n",
    "\n",
    "new_lis = [i ]\n",
    "for i in numbres:\n",
    "    new_lis.append(i+1)\n",
    "\n",
    "print(new_lis)"
   ]
  },
  {
   "cell_type": "code",
   "execution_count": 2,
   "metadata": {},
   "outputs": [
    {
     "ename": "IndentationError",
     "evalue": "unexpected indent (1675214149.py, line 6)",
     "output_type": "error",
     "traceback": [
      "\u001b[1;36m  Cell \u001b[1;32mIn[2], line 6\u001b[1;36m\u001b[0m\n\u001b[1;33m    for i in dictionari:\u001b[0m\n\u001b[1;37m    ^\u001b[0m\n\u001b[1;31mIndentationError\u001b[0m\u001b[1;31m:\u001b[0m unexpected indent\n"
     ]
    }
   ],
   "source": [
    "dictionari = {\n",
    "    \"coffe\":30, \"tea\":32, \"water\":10, \"milk\":300\n",
    "}\n",
    "\n",
    "new_dictionary ={}\n",
    "    for i in dictionari:\n",
    "    new_dictionary[1] = dictionari[i] + 1\n",
    "print(new_dictionary)\n"
   ]
  }
 ],
 "metadata": {
  "kernelspec": {
   "display_name": "Python 3",
   "language": "python",
   "name": "python3"
  },
  "language_info": {
   "codemirror_mode": {
    "name": "ipython",
    "version": 3
   },
   "file_extension": ".py",
   "mimetype": "text/x-python",
   "name": "python",
   "nbconvert_exporter": "python",
   "pygments_lexer": "ipython3",
   "version": "3.13.1"
  }
 },
 "nbformat": 4,
 "nbformat_minor": 2
}
