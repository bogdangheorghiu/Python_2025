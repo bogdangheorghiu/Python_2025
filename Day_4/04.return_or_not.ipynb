{
 "cells": [
  {
   "cell_type": "code",
   "execution_count": 2,
   "metadata": {},
   "outputs": [
    {
     "name": "stdout",
     "output_type": "stream",
     "text": [
      "Area = <function circArea at 0x0000027BC4F9D760>\n"
     ]
    }
   ],
   "source": [
    "import math\n",
    "\n",
    "r = 1\n",
    "\n",
    "def circArea():\n",
    "    return math.pi*pow(r, 2)\n",
    "\n",
    "print(\"Area =\", circArea)"
   ]
  }
 ],
 "metadata": {
  "kernelspec": {
   "display_name": "Python 3",
   "language": "python",
   "name": "python3"
  },
  "language_info": {
   "codemirror_mode": {
    "name": "ipython",
    "version": 3
   },
   "file_extension": ".py",
   "mimetype": "text/x-python",
   "name": "python",
   "nbconvert_exporter": "python",
   "pygments_lexer": "ipython3",
   "version": "3.13.1"
  }
 },
 "nbformat": 4,
 "nbformat_minor": 2
}
